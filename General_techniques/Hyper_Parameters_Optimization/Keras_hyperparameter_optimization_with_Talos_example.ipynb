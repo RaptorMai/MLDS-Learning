{
  "nbformat": 4,
  "nbformat_minor": 0,
  "metadata": {
    "kernelspec": {
      "name": "python3",
      "display_name": "Python 3"
    },
    "language_info": {
      "codemirror_mode": {
        "name": "ipython",
        "version": 3
      },
      "file_extension": ".py",
      "mimetype": "text/x-python",
      "name": "python",
      "nbconvert_exporter": "python",
      "pygments_lexer": "ipython3",
      "version": "3.6.7"
    },
    "colab": {
      "name": "Keras hyperparameter optimization with Talos example.ipynb",
      "version": "0.3.2",
      "provenance": []
    },
    "accelerator": "GPU"
  },
  "cells": [
    {
      "cell_type": "markdown",
      "metadata": {
        "id": "SECRUfA4xFCE",
        "colab_type": "text"
      },
      "source": [
        "# Keras hyperparameter optimization with Talos example"
      ]
    },
    {
      "cell_type": "markdown",
      "metadata": {
        "id": "9h1qTnB30995",
        "colab_type": "text"
      },
      "source": [
        "## Useful links for Talos\n",
        "\n",
        "Official Github [link](https://github.com/autonomio/talos)\n",
        "\n",
        "Official documents [link](https://autonomio.github.io/docs_talos/#introduction)\n",
        "\n",
        "Official example can be found here [example link](https://nbviewer.jupyter.org/github/autonomio/talos/blob/master/examples/Hyperparameter%20Optimization%20with%20Keras%20for%20the%20Iris%20Prediction.ipynb#three)\n",
        "\n",
        "\n",
        "\n",
        "\n"
      ]
    },
    {
      "cell_type": "markdown",
      "metadata": {
        "id": "RQ7h7vhfyIpm",
        "colab_type": "text"
      },
      "source": [
        "## Import modules"
      ]
    },
    {
      "cell_type": "code",
      "metadata": {
        "id": "n-njSZJsyPuq",
        "colab_type": "code",
        "colab": {}
      },
      "source": [
        "!pip install talos"
      ],
      "execution_count": 0,
      "outputs": []
    },
    {
      "cell_type": "code",
      "metadata": {
        "id": "7xfKCylcxbWU",
        "colab_type": "code",
        "colab": {}
      },
      "source": [
        "import numpy as np\n",
        "import keras\n",
        "from keras import backend as K\n",
        "import talos as ta\n",
        "from keras.models import Sequential\n",
        "from keras.layers import Dense, Conv2D, Dropout, BatchNormalization, MaxPooling2D, Flatten, Activation"
      ],
      "execution_count": 0,
      "outputs": []
    },
    {
      "cell_type": "markdown",
      "metadata": {
        "id": "3NYo2R4xyGcX",
        "colab_type": "text"
      },
      "source": [
        "## Import data"
      ]
    },
    {
      "cell_type": "code",
      "metadata": {
        "id": "dNtMI9gxxhrN",
        "colab_type": "code",
        "outputId": "1570831f-8de3-4454-e5b8-77f520999b9c",
        "colab": {
          "base_uri": "https://localhost:8080/",
          "height": 153
        }
      },
      "source": [
        "(x_train, y_train), (x_test, y_test) = keras.datasets.fashion_mnist.load_data()"
      ],
      "execution_count": 3,
      "outputs": [
        {
          "output_type": "stream",
          "text": [
            "Downloading data from http://fashion-mnist.s3-website.eu-central-1.amazonaws.com/train-labels-idx1-ubyte.gz\n",
            "32768/29515 [=================================] - 0s 7us/step\n",
            "Downloading data from http://fashion-mnist.s3-website.eu-central-1.amazonaws.com/train-images-idx3-ubyte.gz\n",
            "26427392/26421880 [==============================] - 3s 0us/step\n",
            "Downloading data from http://fashion-mnist.s3-website.eu-central-1.amazonaws.com/t10k-labels-idx1-ubyte.gz\n",
            "8192/5148 [===============================================] - 0s 0us/step\n",
            "Downloading data from http://fashion-mnist.s3-website.eu-central-1.amazonaws.com/t10k-images-idx3-ubyte.gz\n",
            "4423680/4422102 [==============================] - 2s 0us/step\n"
          ],
          "name": "stdout"
        }
      ]
    },
    {
      "cell_type": "markdown",
      "metadata": {
        "id": "ckpLaceFbGH7",
        "colab_type": "text"
      },
      "source": [
        "## Preprocess data"
      ]
    },
    {
      "cell_type": "code",
      "metadata": {
        "id": "hkxmpRCtbJSC",
        "colab_type": "code",
        "colab": {}
      },
      "source": [
        "img_rows, img_cols = 28, 28\n",
        "num_classes = 10"
      ],
      "execution_count": 0,
      "outputs": []
    },
    {
      "cell_type": "code",
      "metadata": {
        "id": "tJ67R1k5xlyS",
        "colab_type": "code",
        "outputId": "7d942c85-d9f7-4492-fa54-6e196a6c3e22",
        "colab": {
          "base_uri": "https://localhost:8080/",
          "height": 34
        }
      },
      "source": [
        "x_train.shape, y_train.shape, x_test.shape"
      ],
      "execution_count": 4,
      "outputs": [
        {
          "output_type": "execute_result",
          "data": {
            "text/plain": [
              "((60000, 28, 28), (60000,), (10000, 28, 28))"
            ]
          },
          "metadata": {
            "tags": []
          },
          "execution_count": 4
        }
      ]
    },
    {
      "cell_type": "code",
      "metadata": {
        "id": "iQZ6U1LMaWM0",
        "colab_type": "code",
        "colab": {
          "base_uri": "https://localhost:8080/",
          "height": 34
        },
        "outputId": "7ca6e5fa-9a7c-4461-b222-afe9dcb576b2"
      },
      "source": [
        "K.image_data_format()"
      ],
      "execution_count": 5,
      "outputs": [
        {
          "output_type": "execute_result",
          "data": {
            "text/plain": [
              "'channels_last'"
            ]
          },
          "metadata": {
            "tags": []
          },
          "execution_count": 5
        }
      ]
    },
    {
      "cell_type": "code",
      "metadata": {
        "id": "bBLxrSimxFCF",
        "colab_type": "code",
        "colab": {}
      },
      "source": [
        "if K.image_data_format() == 'channels_first':\n",
        "    x_train = x_train.reshape(x_train.shape[0], 1, img_rows, img_cols)\n",
        "    x_test = x_test.reshape(x_test.shape[0], 1, img_rows, img_cols)\n",
        "    input_shape = (1, img_rows, img_cols)\n",
        "else:\n",
        "    x_train = x_train.reshape(x_train.shape[0], img_rows, img_cols, 1)\n",
        "    x_test = x_test.reshape(x_test.shape[0], img_rows, img_cols, 1)\n",
        "    input_shape = (img_rows, img_cols, 1)\n",
        "\n",
        "x_train = x_train.astype('float32')\n",
        "x_test = x_test.astype('float32')\n",
        "x_train /= 255\n",
        "x_test /= 255"
      ],
      "execution_count": 0,
      "outputs": []
    },
    {
      "cell_type": "code",
      "metadata": {
        "id": "VDJ8bHmZbWlO",
        "colab_type": "code",
        "colab": {
          "base_uri": "https://localhost:8080/",
          "height": 68
        },
        "outputId": "aaadf9cc-428a-443c-a56c-ebdb3bed7aee"
      },
      "source": [
        "print('x_train shape:', x_train.shape)\n",
        "print(x_train.shape[0], 'train samples')\n",
        "print(x_test.shape[0], 'test samples')"
      ],
      "execution_count": 9,
      "outputs": [
        {
          "output_type": "stream",
          "text": [
            "x_train shape: (60000, 28, 28, 1)\n",
            "60000 train samples\n",
            "10000 test samples\n"
          ],
          "name": "stdout"
        }
      ]
    },
    {
      "cell_type": "code",
      "metadata": {
        "id": "5BkdbXO3bTN6",
        "colab_type": "code",
        "colab": {}
      },
      "source": [
        "# convert class vectors to binary class matrices\n",
        "y_train = keras.utils.to_categorical(y_train, num_classes)\n",
        "y_test = keras.utils.to_categorical(y_test, num_classes)"
      ],
      "execution_count": 0,
      "outputs": []
    },
    {
      "cell_type": "code",
      "metadata": {
        "colab_type": "code",
        "id": "vStm3HP9b2th",
        "colab": {}
      },
      "source": [
        "x = np.concatenate((x_train, x_test), axis=0)"
      ],
      "execution_count": 0,
      "outputs": []
    },
    {
      "cell_type": "code",
      "metadata": {
        "id": "KEzIv_Snb6X_",
        "colab_type": "code",
        "colab": {
          "base_uri": "https://localhost:8080/",
          "height": 34
        },
        "outputId": "bd3a7813-1f22-4ce4-9c0a-d903268006f1"
      },
      "source": [
        "x.shape"
      ],
      "execution_count": 22,
      "outputs": [
        {
          "output_type": "execute_result",
          "data": {
            "text/plain": [
              "(70000, 28, 28, 1)"
            ]
          },
          "metadata": {
            "tags": []
          },
          "execution_count": 22
        }
      ]
    },
    {
      "cell_type": "code",
      "metadata": {
        "id": "BbQryHv3xFCM",
        "colab_type": "code",
        "outputId": "6c37779e-4ee5-4eee-8ea6-a69be0526ef7",
        "colab": {
          "base_uri": "https://localhost:8080/",
          "height": 34
        }
      },
      "source": [
        " y = np.concatenate((y_train, y_test), axis=0)\n",
        "y.shape"
      ],
      "execution_count": 29,
      "outputs": [
        {
          "output_type": "execute_result",
          "data": {
            "text/plain": [
              "(70000, 10)"
            ]
          },
          "metadata": {
            "tags": []
          },
          "execution_count": 29
        }
      ]
    },
    {
      "cell_type": "markdown",
      "metadata": {
        "id": "qabWYJK3s0cH",
        "colab_type": "text"
      },
      "source": [
        "## Prepare model for Talos experiments"
      ]
    },
    {
      "cell_type": "markdown",
      "metadata": {
        "id": "vjiAgrcgtAMN",
        "colab_type": "text"
      },
      "source": [
        "### Configuring the Keras Model for Talos\n",
        "In order to prepare a Keras model for a Talos experiment, we need to do four things:\n",
        "\n",
        "1.   Add input parameters to the function\n",
        "2.  Replace the hyperparameter inputs with references to params dictionary\n",
        "3. Make sure model.fit() stores the history object\n",
        "4. Modify the output of the model\n"
      ]
    },
    {
      "cell_type": "code",
      "metadata": {
        "id": "HLPKV9XwxFCO",
        "colab_type": "code",
        "colab": {}
      },
      "source": [
        "def fashion_mnist_fn(x_train, y_train, x_val, y_val, params):\n",
        "    \n",
        "    # Extract the hyper-params I want to tune from params\n",
        "    conv_dropout = float(params['conv_dropout'])\n",
        "    dense1_neuron = int(params['dense1_neuron'])\n",
        "    activation_tune = params['activation']\n",
        "    model = Sequential()\n",
        "    model.add(BatchNormalization(input_shape=x_train.shape[1:]))\n",
        "    model.add(Conv2D(64, (5, 5), padding='same', activation=activation_tune))\n",
        "    model.add(MaxPooling2D(pool_size=(2, 2), strides=(2,2)))\n",
        "    model.add(Dropout(conv_dropout))\n",
        "\n",
        "    model.add(BatchNormalization(input_shape=x_train.shape[1:]))\n",
        "    model.add(Conv2D(128, (5, 5), padding='same', activation=activation_tune))\n",
        "    model.add(MaxPooling2D(pool_size=(2, 2)))\n",
        "    model.add(Dropout(conv_dropout))\n",
        "\n",
        "    model.add(BatchNormalization(input_shape=x_train.shape[1:]))\n",
        "    model.add(Conv2D(256, (5, 5), padding='same', activation=activation_tune))\n",
        "    model.add(MaxPooling2D(pool_size=(2, 2), strides=(2,2)))\n",
        "    model.add(Dropout(conv_dropout))\n",
        "\n",
        "    model.add(Flatten())\n",
        "    model.add(Dense(dense1_neuron))\n",
        "    model.add(Activation(activation_tune))\n",
        "    model.add(Dropout(0.5))\n",
        "    model.add(Dense(10))\n",
        "    model.add(Activation('softmax'))\n",
        "  \n",
        "    model.compile(\n",
        "        optimizer='adam', # tf.train.AdamOptimizer(learning_rate=1e-3, )\n",
        "        loss='categorical_crossentropy',\n",
        "        metrics=['accuracy']\n",
        "    )\n",
        "\n",
        "\n",
        "    out = model.fit(\n",
        "        x, y, epochs=10, batch_size=32, \n",
        "        verbose=0,\n",
        "        validation_data=[x_val, y_val]\n",
        "    )\n",
        "    \n",
        "    #need to return two items. \n",
        "    #the first one is history object from model.fit()\n",
        "    #the second one is model\n",
        "    return out, model\n"
      ],
      "execution_count": 0,
      "outputs": []
    },
    {
      "cell_type": "markdown",
      "metadata": {
        "id": "woZTOXGoww60",
        "colab_type": "text"
      },
      "source": [
        "## Run Talos experiments"
      ]
    },
    {
      "cell_type": "code",
      "metadata": {
        "id": "_LCeMZHqxFCP",
        "colab_type": "code",
        "colab": {}
      },
      "source": [
        "# Set params you want to try\n",
        "para = {\n",
        "    'dense1_neuron': [256, 512],\n",
        "    'activation': ['relu', 'elu'],\n",
        "    'conv_dropout': [0.25, 0.4]\n",
        "}"
      ],
      "execution_count": 0,
      "outputs": []
    },
    {
      "cell_type": "markdown",
      "metadata": {
        "id": "GEvs7BOLw6-k",
        "colab_type": "text"
      },
      "source": [
        "While many configurations are possible, the only things that you absolutely must input to a Talos experiment are:\n",
        "\n",
        "\n",
        "\n",
        "*   x: x = np.concatenate((x_train, x_test), axis=0)\n",
        "*   y: y = np.concatenate((y_train, y_test), axis=0)\n",
        "*   params we defined above\n",
        "*  model function we defined above\n",
        "\n",
        "\n",
        "\n"
      ]
    },
    {
      "cell_type": "code",
      "metadata": {
        "scrolled": false,
        "id": "82bEQWBoxFCR",
        "colab_type": "code",
        "outputId": "5863559e-377a-4a83-e844-259df0acdc29",
        "colab": {
          "base_uri": "https://localhost:8080/",
          "height": 445
        }
      },
      "source": [
        "scan_results = ta.Scan(x, y, para, fashion_mnist_fn)"
      ],
      "execution_count": 30,
      "outputs": [
        {
          "output_type": "stream",
          "text": [
            "\r  0%|          | 0/8 [00:00<?, ?it/s]WARNING: Logging before flag parsing goes to stderr.\n",
            "W0811 22:22:16.964628 140386566686592 deprecation_wrapper.py:119] From /usr/local/lib/python3.6/dist-packages/keras/backend/tensorflow_backend.py:74: The name tf.get_default_graph is deprecated. Please use tf.compat.v1.get_default_graph instead.\n",
            "\n",
            "W0811 22:22:17.003978 140386566686592 deprecation_wrapper.py:119] From /usr/local/lib/python3.6/dist-packages/keras/backend/tensorflow_backend.py:517: The name tf.placeholder is deprecated. Please use tf.compat.v1.placeholder instead.\n",
            "\n",
            "W0811 22:22:17.022866 140386566686592 deprecation_wrapper.py:119] From /usr/local/lib/python3.6/dist-packages/keras/backend/tensorflow_backend.py:174: The name tf.get_default_session is deprecated. Please use tf.compat.v1.get_default_session instead.\n",
            "\n",
            "W0811 22:22:17.023948 140386566686592 deprecation_wrapper.py:119] From /usr/local/lib/python3.6/dist-packages/keras/backend/tensorflow_backend.py:181: The name tf.ConfigProto is deprecated. Please use tf.compat.v1.ConfigProto instead.\n",
            "\n",
            "W0811 22:22:17.025135 140386566686592 deprecation_wrapper.py:119] From /usr/local/lib/python3.6/dist-packages/keras/backend/tensorflow_backend.py:186: The name tf.Session is deprecated. Please use tf.compat.v1.Session instead.\n",
            "\n",
            "W0811 22:22:19.739896 140386566686592 deprecation_wrapper.py:119] From /usr/local/lib/python3.6/dist-packages/keras/backend/tensorflow_backend.py:1834: The name tf.nn.fused_batch_norm is deprecated. Please use tf.compat.v1.nn.fused_batch_norm instead.\n",
            "\n",
            "W0811 22:22:19.829800 140386566686592 deprecation_wrapper.py:119] From /usr/local/lib/python3.6/dist-packages/keras/backend/tensorflow_backend.py:3976: The name tf.nn.max_pool is deprecated. Please use tf.nn.max_pool2d instead.\n",
            "\n",
            "W0811 22:22:19.837575 140386566686592 deprecation.py:506] From /usr/local/lib/python3.6/dist-packages/keras/backend/tensorflow_backend.py:3445: calling dropout (from tensorflow.python.ops.nn_ops) with keep_prob is deprecated and will be removed in a future version.\n",
            "Instructions for updating:\n",
            "Please use `rate` instead of `keep_prob`. Rate should be set to `rate = 1 - keep_prob`.\n",
            "W0811 22:22:20.254991 140386566686592 deprecation_wrapper.py:119] From /usr/local/lib/python3.6/dist-packages/keras/optimizers.py:790: The name tf.train.Optimizer is deprecated. Please use tf.compat.v1.train.Optimizer instead.\n",
            "\n",
            "W0811 22:22:20.381483 140386566686592 deprecation.py:323] From /usr/local/lib/python3.6/dist-packages/tensorflow/python/ops/math_grad.py:1250: add_dispatch_support.<locals>.wrapper (from tensorflow.python.ops.array_ops) is deprecated and will be removed in a future version.\n",
            "Instructions for updating:\n",
            "Use tf.where in 2.0, which has the same broadcast rule as np.where\n",
            "100%|██████████| 8/8 [30:37<00:00, 230.08s/it]\n"
          ],
          "name": "stderr"
        }
      ]
    },
    {
      "cell_type": "code",
      "metadata": {
        "id": "Iwu_rb1BxFCU",
        "colab_type": "code",
        "outputId": "e10a6a74-3098-4ff4-a5df-39f181feecc5",
        "colab": {
          "base_uri": "https://localhost:8080/",
          "height": 204
        }
      },
      "source": [
        "scan_results.data.head()"
      ],
      "execution_count": 31,
      "outputs": [
        {
          "output_type": "execute_result",
          "data": {
            "text/html": [
              "<div>\n",
              "<style scoped>\n",
              "    .dataframe tbody tr th:only-of-type {\n",
              "        vertical-align: middle;\n",
              "    }\n",
              "\n",
              "    .dataframe tbody tr th {\n",
              "        vertical-align: top;\n",
              "    }\n",
              "\n",
              "    .dataframe thead th {\n",
              "        text-align: right;\n",
              "    }\n",
              "</style>\n",
              "<table border=\"1\" class=\"dataframe\">\n",
              "  <thead>\n",
              "    <tr style=\"text-align: right;\">\n",
              "      <th></th>\n",
              "      <th>round_epochs</th>\n",
              "      <th>val_loss</th>\n",
              "      <th>val_acc</th>\n",
              "      <th>loss</th>\n",
              "      <th>acc</th>\n",
              "      <th>dense1_neuron</th>\n",
              "      <th>activation</th>\n",
              "      <th>conv_dropout</th>\n",
              "    </tr>\n",
              "  </thead>\n",
              "  <tbody>\n",
              "    <tr>\n",
              "      <th>0</th>\n",
              "      <td>10</td>\n",
              "      <td>0.207849</td>\n",
              "      <td>0.922762</td>\n",
              "      <td>0.289434</td>\n",
              "      <td>0.897057</td>\n",
              "      <td>256</td>\n",
              "      <td>relu</td>\n",
              "      <td>0.40</td>\n",
              "    </tr>\n",
              "    <tr>\n",
              "      <th>1</th>\n",
              "      <td>10</td>\n",
              "      <td>0.159383</td>\n",
              "      <td>0.938952</td>\n",
              "      <td>0.258707</td>\n",
              "      <td>0.910071</td>\n",
              "      <td>512</td>\n",
              "      <td>elu</td>\n",
              "      <td>0.25</td>\n",
              "    </tr>\n",
              "    <tr>\n",
              "      <th>2</th>\n",
              "      <td>10</td>\n",
              "      <td>0.171147</td>\n",
              "      <td>0.936857</td>\n",
              "      <td>0.230664</td>\n",
              "      <td>0.916829</td>\n",
              "      <td>256</td>\n",
              "      <td>relu</td>\n",
              "      <td>0.25</td>\n",
              "    </tr>\n",
              "    <tr>\n",
              "      <th>3</th>\n",
              "      <td>10</td>\n",
              "      <td>0.187549</td>\n",
              "      <td>0.928381</td>\n",
              "      <td>0.291581</td>\n",
              "      <td>0.894986</td>\n",
              "      <td>256</td>\n",
              "      <td>elu</td>\n",
              "      <td>0.40</td>\n",
              "    </tr>\n",
              "    <tr>\n",
              "      <th>4</th>\n",
              "      <td>10</td>\n",
              "      <td>0.180831</td>\n",
              "      <td>0.932714</td>\n",
              "      <td>0.289033</td>\n",
              "      <td>0.898457</td>\n",
              "      <td>512</td>\n",
              "      <td>elu</td>\n",
              "      <td>0.40</td>\n",
              "    </tr>\n",
              "  </tbody>\n",
              "</table>\n",
              "</div>"
            ],
            "text/plain": [
              "   round_epochs  val_loss   val_acc  ...  dense1_neuron  activation  conv_dropout\n",
              "0            10  0.207849  0.922762  ...            256        relu          0.40\n",
              "1            10  0.159383  0.938952  ...            512         elu          0.25\n",
              "2            10  0.171147  0.936857  ...            256        relu          0.25\n",
              "3            10  0.187549  0.928381  ...            256         elu          0.40\n",
              "4            10  0.180831  0.932714  ...            512         elu          0.40\n",
              "\n",
              "[5 rows x 8 columns]"
            ]
          },
          "metadata": {
            "tags": []
          },
          "execution_count": 31
        }
      ]
    },
    {
      "cell_type": "code",
      "metadata": {
        "id": "-1ItCdnoxFCW",
        "colab_type": "code",
        "colab": {}
      },
      "source": [
        ""
      ],
      "execution_count": 0,
      "outputs": []
    }
  ]
}